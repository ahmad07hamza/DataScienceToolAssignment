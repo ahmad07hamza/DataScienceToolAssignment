{
 "cells": [
  {
   "cell_type": "markdown",
   "id": "ab49de6c",
   "metadata": {},
   "source": [
    "# Data Science Tools and Ecosystem"
   ]
  },
  {
   "cell_type": "markdown",
   "id": "ed083d67",
   "metadata": {},
   "source": [
    "In this notebook, Data Science Tools and Ecosystem are summarized."
   ]
  },
  {
   "cell_type": "markdown",
   "id": "d925694b",
   "metadata": {},
   "source": [
    "**Objectives:**\n",
    "- Categories Data Science Tool\n",
    "- List some important Open Source Tools for Data Science\n",
    "- List some important Commercial Tools for Data Science\n",
    "- List some important Cloud based Tools for Data Science\n",
    "- Learn Basics of Jupyter Notebook, R and Git/GitHub"
   ]
  },
  {
   "cell_type": "markdown",
   "id": "4608799a",
   "metadata": {},
   "source": [
    "Some of the popular languages that Data Scientists use are:\n",
    "1. Python\n",
    "2. R\n",
    "3. SQL"
   ]
  },
  {
   "cell_type": "markdown",
   "id": "e155d939",
   "metadata": {},
   "source": [
    "Some of the commonly used libraries used by Data Scientists include:\n",
    "1. Numpy\n",
    "2. Pandas\n",
    "3. TensorFlow\n",
    "4. Scipy"
   ]
  },
  {
   "cell_type": "markdown",
   "id": "90aeafb5",
   "metadata": {},
   "source": [
    "|Data Science Tools        |\n",
    "----------------------------\n",
    "|Jupyter Notebook          |\n",
    "|R Studio                  |\n",
    "|Spyder                    |\n"
   ]
  },
  {
   "cell_type": "markdown",
   "id": "18837a30",
   "metadata": {},
   "source": [
    "### Below are a few examples of evaluating arithmetic expressions in Python"
   ]
  },
  {
   "cell_type": "code",
   "execution_count": 1,
   "id": "413e72a7",
   "metadata": {},
   "outputs": [
    {
     "data": {
      "text/plain": [
       "17"
      ]
     },
     "execution_count": 1,
     "metadata": {},
     "output_type": "execute_result"
    }
   ],
   "source": [
    "#This a simple arithmetic expression to mutiply then add integers\n",
    "(3*4)+5"
   ]
  },
  {
   "cell_type": "code",
   "execution_count": 2,
   "id": "ea3c9a03",
   "metadata": {},
   "outputs": [
    {
     "name": "stdout",
     "output_type": "stream",
     "text": [
      "3.3333333333333335\n"
     ]
    }
   ],
   "source": [
    "#This will convert 200 minutes to hours by diving by 60\n",
    "Minutes=200\n",
    "Hours=200/60\n",
    "print()\n"
   ]
  },
  {
   "cell_type": "markdown",
   "id": "b11ec82f",
   "metadata": {},
   "source": [
    "## Author\n",
    "Hamza "
   ]
  },
  {
   "cell_type": "code",
   "execution_count": null,
   "id": "7a2ffbc7",
   "metadata": {},
   "outputs": [],
   "source": []
  }
 ],
 "metadata": {
  "kernelspec": {
   "display_name": "Python 3 (ipykernel)",
   "language": "python",
   "name": "python3"
  },
  "language_info": {
   "codemirror_mode": {
    "name": "ipython",
    "version": 3
   },
   "file_extension": ".py",
   "mimetype": "text/x-python",
   "name": "python",
   "nbconvert_exporter": "python",
   "pygments_lexer": "ipython3",
   "version": "3.10.9"
  }
 },
 "nbformat": 4,
 "nbformat_minor": 5
}
